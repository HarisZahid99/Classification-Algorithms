{
  "nbformat": 4,
  "nbformat_minor": 0,
  "metadata": {
    "colab": {
      "provenance": [],
      "collapsed_sections": [
        "1QbAtm3J-fLn"
      ]
    },
    "kernelspec": {
      "name": "python3",
      "display_name": "Python 3"
    },
    "language_info": {
      "name": "python"
    }
  },
  "cells": [
    {
      "cell_type": "markdown",
      "source": [
        "Name: Haris Zahid\n",
        "\n",
        "Student Number: 500845895"
      ],
      "metadata": {
        "id": "vfKRlZDK-QHs"
      }
    },
    {
      "cell_type": "markdown",
      "source": [
        "# **Dataset 1**"
      ],
      "metadata": {
        "id": "1QbAtm3J-fLn"
      }
    },
    {
      "cell_type": "markdown",
      "source": [
        "K-Means Implementation"
      ],
      "metadata": {
        "id": "CStfNymnE8kr"
      }
    },
    {
      "cell_type": "code",
      "source": [
        "import numpy as np\n",
        "import pandas as pd\n",
        "import matplotlib.pyplot as plt\n",
        "import seaborn as sns"
      ],
      "metadata": {
        "id": "rplvvaoO-l34"
      },
      "execution_count": null,
      "outputs": []
    },
    {
      "cell_type": "code",
      "source": [
        "# Define the dataset\n",
        "X = np.array([[2, 10], [2, 5], [8, 4], [5, 8], [7, 5], [6, 4], [1, 2], [4, 9]])\n",
        "\n",
        "# Define the initial seeds\n",
        "centers = np.array([[2, 5], [8, 4], [4, 9]])\n",
        "\n",
        "# Define the number of clusters\n",
        "k = len(centers)\n",
        "\n",
        "# Define the number of examples\n",
        "n = X.shape[0]\n",
        "\n",
        "# Define the maximum number of epochs\n",
        "max_epochs = 1\n",
        "\n",
        "# Define the arrays to store the clusters and the centers\n",
        "clusters = np.zeros(n)\n",
        "new_centers = np.zeros((k, 2))\n",
        "\n",
        "# Run the K-means algorithm for one epoch\n",
        "for epoch in range(max_epochs):\n",
        "    # Assign each example to the nearest center\n",
        "    for i in range(n):\n",
        "        distances = np.linalg.norm(X[i] - centers, axis=1)\n",
        "        cluster = np.argmin(distances)\n",
        "        clusters[i] = cluster\n",
        "\n",
        "    # Compute the new centers\n",
        "    for j in range(k):\n",
        "        new_centers[j] = np.mean(X[clusters == j], axis=0)\n",
        "\n",
        "    # Update the centers\n",
        "    centers = new_centers.copy()\n",
        "\n",
        "# Print the new clusters and the centers\n",
        "print(\"New clusters:\", clusters)\n",
        "print(\"New centers:\", centers)\n",
        "\n",
        "# Plot the clusters and the centers\n",
        "colors = ['r', 'g', 'b']\n",
        "for i in range(n):\n",
        "    plt.scatter(X[i, 0], X[i, 1], c=colors[int(clusters[i])])\n",
        "for j in range(k):\n",
        "    plt.scatter(centers[j, 0], centers[j, 1], c='k', marker='x')\n",
        "plt.show()\n",
        "\n",
        "print(\"It takes 1 iteration and 1 epoch for the seeds to converage.\")"
      ],
      "metadata": {
        "colab": {
          "base_uri": "https://localhost:8080/",
          "height": 354
        },
        "id": "z4_FnWunCDYI",
        "outputId": "f2f453e5-a6b3-4392-b088-80d68475858f"
      },
      "execution_count": null,
      "outputs": [
        {
          "output_type": "stream",
          "name": "stdout",
          "text": [
            "New clusters: [2. 0. 1. 2. 1. 1. 0. 2.]\n",
            "New centers: [[1.5        3.5       ]\n",
            " [7.         4.33333333]\n",
            " [3.66666667 9.        ]]\n"
          ]
        },
        {
          "output_type": "display_data",
          "data": {
            "text/plain": [
              "<Figure size 432x288 with 1 Axes>"
            ],
            "image/png": "[encoded data removed]"
          },
          "metadata": {
            "needs_background": "light"
          }
        },
        {
          "output_type": "stream",
          "name": "stdout",
          "text": [
            "It takes 1 iteration and 1 epoch for the seeds to converage.\n"
          ]
        }
      ]
    },
    {
      "cell_type": "markdown",
      "source": [
        "Nearest Neighbour Implemenation:\n"
      ],
      "metadata": {
        "id": "s_eqiGJAFBrw"
      }
    },
    {
      "cell_type": "code",
      "source": [
        "# Define the dataset\n",
        "X = np.array([[2, 10], [2, 5], [8, 4], [5, 8], [7, 5], [6, 4], [1, 2], [4, 9]])\n",
        "\n",
        "# Define the threshold value\n",
        "threshold = 4\n",
        "\n",
        "# Define a function to calculate the Euclidean distance between two points\n",
        "def euclidean_distance(x1, x2):\n",
        "    return np.sqrt((x1[0] - x2[0])**2 + (x1[1] - x2[1])**2)\n",
        "\n",
        "# Initialize the list of cluster centers\n",
        "centers = []\n",
        "\n",
        "# Choose an arbitrary point as the first cluster center\n",
        "centers.append(X[0])\n",
        "\n",
        "# Iterate until all points have been assigned to a cluster or become cluster centers themselves\n",
        "while True:\n",
        "    # Calculate the distance between each point and each cluster center\n",
        "    distances = np.zeros((X.shape[0], len(centers)))\n",
        "    for i, center in enumerate(centers):\n",
        "        for j, point in enumerate(X):\n",
        "            distances[j, i] = euclidean_distance(center, point)\n",
        "\n",
        "    # Find the minimum distance to each cluster center for each point\n",
        "    min_distances = np.min(distances, axis=1)\n",
        "\n",
        "    # Find the index of the closest cluster center for each point\n",
        "    closest_centers = np.argmin(distances, axis=1)\n",
        "\n",
        "    # Check if any points are closer to a cluster center than the threshold value\n",
        "    if np.max(min_distances) > threshold:\n",
        "        # Find the point with the maximum minimum distance to a cluster center\n",
        "        new_center = X[np.argmax(min_distances)]\n",
        "        centers.append(new_center)\n",
        "    else:\n",
        "        break\n",
        "\n",
        "# Plot the clusters\n",
        "for i, center in enumerate(centers):\n",
        "    cluster_points = X[closest_centers == i]\n",
        "    plt.scatter(cluster_points[:, 0], cluster_points[:, 1])\n",
        "    plt.scatter(center[0], center[1], s=100, marker='x')\n",
        "\n",
        "plt.show()"
      ],
      "metadata": {
        "colab": {
          "base_uri": "https://localhost:8080/",
          "height": 265
        },
        "id": "8k94r5FoFGqw",
        "outputId": "369fdbf8-b682-4eee-fe65-c8520bd96644"
      },
      "execution_count": null,
      "outputs": [
        {
          "output_type": "display_data",
          "data": {
            "text/plain": [
              "<Figure size 432x288 with 1 Axes>"
            ],
            "image/png": "[encoded data removed]"
          },
          "metadata": {
            "needs_background": "light"
          }
        }
      ]
    },
    {
      "cell_type": "markdown",
      "source": [
        "DBScan Implementation"
      ],
      "metadata": {
        "id": "ig9n3Q_dMUns"
      }
    },
    {
      "cell_type": "code",
      "source": [
        "import math\n",
        "\n",
        "def distance(p1, p2):\n",
        "    return math.sqrt((p1[0]-p2[0])**2 + (p1[1]-p2[1])**2)\n",
        "\n",
        "def get_neighbors(data, point, eps):\n",
        "    neighbors = []\n",
        "    for p in data:\n",
        "        if distance(point, p) <= eps:\n",
        "            neighbors.append(p)\n",
        "    return neighbors\n",
        "\n",
        "def dbscan(data, eps, min_pts):\n",
        "    clusters = []\n",
        "    visited = set()\n",
        "    noise = set()\n",
        "    for point in data:\n",
        "        if point in visited:\n",
        "            continue\n",
        "        visited.add(point)\n",
        "        neighbors = get_neighbors(data, point, eps)\n",
        "        if len(neighbors) < min_pts:\n",
        "            noise.add(point)\n",
        "        else:\n",
        "            cluster = [point]\n",
        "            clusters.append(cluster)\n",
        "            expand_cluster(data, point, neighbors, cluster, visited, eps, min_pts)\n",
        "    return clusters, noise\n",
        "\n",
        "def expand_cluster(data, point, neighbors, cluster, visited, eps, min_pts):\n",
        "    for p in neighbors:\n",
        "        if p not in visited:\n",
        "            visited.add(p)\n",
        "            p_neighbors = get_neighbors(data, p, eps)\n",
        "            if len(p_neighbors) >= min_pts:\n",
        "                neighbors.extend(p_neighbors)\n",
        "        if not any([p in c for c in cluster]):\n",
        "            cluster.append(p)\n",
        "\n",
        "X = [(2,10), (2,5), (8,4), (5,8), (7,5), (6,4), (1,2), (4,9)]\n",
        "clusters, noise = dbscan(X, eps=2, min_pts=2)\n",
        "print(\"Clusters:\", clusters)\n",
        "print(\"Noise:\", noise)\n",
        "\n",
        "# Plot the clusters and noise\n",
        "colors = ['b', 'g', 'r', 'c', 'm', 'y', 'k']\n",
        "for i, cluster in enumerate(clusters):\n",
        "    x = [p[0] for p in cluster]\n",
        "    y = [p[1] for p in cluster]\n",
        "    plt.scatter(x, y, c=colors[i%len(colors)], label=f'Cluster {i+1}')\n",
        "x = [p[0] for p in noise]\n",
        "y = [p[1] for p in noise]\n",
        "plt.scatter(x, y, c='grey', label='Noise')\n",
        "plt.legend()\n",
        "plt.show()"
      ],
      "metadata": {
        "colab": {
          "base_uri": "https://localhost:8080/",
          "height": 301
        },
        "id": "MuFdFKyzMXQC",
        "outputId": "bcdc8b07-f93d-4b79-e1ec-b29f186d4da6"
      },
      "execution_count": null,
      "outputs": [
        {
          "output_type": "stream",
          "name": "stdout",
          "text": [
            "Clusters: [[(8, 4), (8, 4), (7, 5), (6, 4), (8, 4), (7, 5), (6, 4), (8, 4), (7, 5), (6, 4)], [(5, 8), (5, 8), (4, 9), (5, 8), (4, 9)]]\n",
            "Noise: {(1, 2), (2, 10), (2, 5)}\n"
          ]
        },
        {
          "output_type": "display_data",
          "data": {
            "text/plain": [
              "<Figure size 432x288 with 1 Axes>"
            ],
            "image/png": "[encoded data removed]"
          },
          "metadata": {
            "needs_background": "light"
          }
        }
      ]
    },
    {
      "cell_type": "code",
      "source": [
        "data = [(2,10), (2,5), (8,4), (5,8), (7,5), (6,4), (1,2), (4,9)]\n",
        "clusters, noise = dbscan(data, eps=(np.sqrt(10)), min_pts=2)\n",
        "print(\"Clusters:\", clusters)\n",
        "print(\"Noise:\", noise)\n",
        "\n",
        "# Plot the clusters and noise\n",
        "colors = ['b', 'g', 'r', 'c', 'm', 'y', 'k']\n",
        "for i, cluster in enumerate(clusters):\n",
        "    x = [p[0] for p in cluster]\n",
        "    y = [p[1] for p in cluster]\n",
        "    plt.scatter(x, y, c=colors[i%len(colors)], label=f'Cluster {i+1}')\n",
        "x = [p[0] for p in noise]\n",
        "y = [p[1] for p in noise]\n",
        "plt.scatter(x, y, c='grey', label='Noise')\n",
        "plt.legend()\n",
        "plt.show()"
      ],
      "metadata": {
        "colab": {
          "base_uri": "https://localhost:8080/",
          "height": 321
        },
        "id": "Wz51LFL-bM8r",
        "outputId": "58c48a4d-e512-4df6-e596-a94c354d0c07"
      },
      "execution_count": null,
      "outputs": [
        {
          "output_type": "stream",
          "name": "stdout",
          "text": [
            "Clusters: [[(2, 10), (2, 10), (4, 9), (2, 10), (5, 8), (4, 9), (5, 8), (4, 9)], [(2, 5), (2, 5), (1, 2), (2, 5), (1, 2)], [(8, 4), (8, 4), (7, 5), (6, 4), (8, 4), (7, 5), (6, 4), (8, 4), (7, 5), (6, 4)]]\n",
            "Noise: set()\n"
          ]
        },
        {
          "output_type": "display_data",
          "data": {
            "text/plain": [
              "<Figure size 432x288 with 1 Axes>"
            ],
            "image/png": "[encoded data removed]"
          },
          "metadata": {
            "needs_background": "light"
          }
        }
      ]
    },
    {
      "cell_type": "markdown",
      "source": [
        "Questions:\n",
        "\n",
        "Q9: My results are similar to k-means but my centroids are different because of the way the algorithims are implemented, however, my clusters remain the same.\n",
        "\n",
        "Q11: Nearest neighbour is more efficient when it comes to larger datasets because it is adding onto the cluster of its nearest neightbour where as k-means must spend the time to calculate the distance from each centroid and place itself within one. K-means seems to be more efficient for the smaller dataset in our case but not so for the larger ones.\n"
      ],
      "metadata": {
        "id": "BFejBOK5bZpo"
      }
    },
    {
      "cell_type": "markdown",
      "source": [
        "# **Dataset 2**"
      ],
      "metadata": {
        "id": "RcOLYeygeA2u"
      }
    },
    {
      "cell_type": "markdown",
      "source": [
        "K-means Implementation\n",
        "\n",
        "Assuming random value of iterations for converagence"
      ],
      "metadata": {
        "id": "07d8WHvMeORG"
      }
    },
    {
      "cell_type": "code",
      "source": [
        "import numpy as np\n",
        "import pandas as pd\n",
        "import matplotlib.pyplot as plt\n",
        "\n",
        "class KMeans:\n",
        "    def __init__(self, n_clusters=2, max_iter=300):\n",
        "        self.n_clusters = n_clusters\n",
        "        self.max_iter = max_iter\n",
        "\n",
        "    def fit(self, X):\n",
        "        self.centroids = X[np.random.choice(X.shape[0], self.n_clusters), :]\n",
        "        for i in range(self.max_iter):\n",
        "          # Compute the distance to each centroid\n",
        "            distances = np.linalg.norm(X[:, np.newaxis, :] - self.centroids, axis=2)\n",
        "            self.labels = np.argmin(distances, axis=1)\n",
        "            new_centroids = np.array([X[self.labels == k, :].mean(axis=0) for k in range(self.n_clusters)])\n",
        "            if np.allclose(new_centroids, self.centroids):\n",
        "                break\n",
        "            self.centroids = new_centroids\n",
        "\n",
        "    def predict(self, X):\n",
        "        distances = np.linalg.norm(X[:, np.newaxis, :] - self.centroids, axis=2)\n",
        "        return np.argmin(distances, axis=1)"
      ],
      "metadata": {
        "id": "XuUKVoN9eNyZ"
      },
      "execution_count": null,
      "outputs": []
    },
    {
      "cell_type": "code",
      "source": [
        "# Load data\n",
        "url = \"https://raw.githubusercontent.com/tofighi/MachineLearning/master/datasets/heart.csv\"\n",
        "df = pd.read_csv(url)\n",
        "\n",
        "# Select sbp and tobacco features\n",
        "X = df[['sbp', 'tobacco']].values\n",
        "\n",
        "# Split data into training and testing sets\n",
        "X_train = X[:300, :]\n",
        "X_test = X[300:, :]\n",
        "\n",
        "# Fit K-means model\n",
        "kmeans = KMeans(n_clusters=2)\n",
        "kmeans.fit(X_train)\n",
        "\n",
        "# Predict labels for testing set\n",
        "y_pred = kmeans.predict(X_test)\n",
        "\n",
        "# # Calculate accuracy\n",
        "y_true = df['chd'][300:].values\n",
        "# accuracy = np.mean(y_pred == y_true)\n",
        "# print(\"Accuracy: {:.2f}%\".format(accuracy * 100))\n",
        "\n",
        "# Calculate TP, TN, FP, FN\n",
        "TP = sum((y_true == 1) & (y_pred == 1))\n",
        "TN = sum((y_true == 0) & (y_pred == 0))\n",
        "FP = sum((y_true == 0) & (y_pred == 1))\n",
        "FN = sum((y_true == 1) & (y_pred == 0))\n",
        "\n",
        "# Calculate accuracy\n",
        "accuracy = (TP + TN) / (TP + TN + FP + FN)\n",
        "print(accuracy*100)\n",
        "\n",
        "\n",
        "# Plot actual data points\n",
        "plt.scatter(X_test[y_true == 0, 0], X_test[y_true == 0, 1], c='b', label='No CHD')\n",
        "plt.scatter(X_test[y_true == 1, 0], X_test[y_true == 1, 1], c='r', label='CHD')\n",
        "plt.xlabel('sbp')\n",
        "plt.ylabel('tobacco')\n",
        "plt.legend()\n",
        "plt.show()\n",
        "\n",
        "# Plot predicted data points\n",
        "plt.scatter(X_test[y_pred == 0, 0], X_test[y_pred == 0, 1], c='b', label='Cluster 1')\n",
        "plt.scatter(X_test[y_pred == 1, 0], X_test[y_pred == 1, 1], c='r', label='Cluster 2')\n",
        "plt.scatter(kmeans.centroids[:, 0], kmeans.centroids[:, 1], marker='x', s=200, linewidths=3, color='Green', zorder=10, label='Centroids')\n",
        "plt.xlabel('sbp')\n",
        "plt.ylabel('tobacco')\n",
        "plt.legend()\n",
        "plt.show()\n"
      ],
      "metadata": {
        "colab": {
          "base_uri": "https://localhost:8080/",
          "height": 559
        },
        "id": "TIAM-9ntec0P",
        "outputId": "ea1460ef-9434-4c33-95c6-6fa034ec4dde"
      },
      "execution_count": null,
      "outputs": [
        {
          "output_type": "stream",
          "name": "stdout",
          "text": [
            "67.90123456790124\n"
          ]
        },
        {
          "output_type": "display_data",
          "data": {
            "text/plain": [
              "<Figure size 432x288 with 1 Axes>"
            ],
            "image/png": "[encoded data removed]"
          },
          "metadata": {
            "needs_background": "light"
          }
        },
        {
          "output_type": "display_data",
          "data": {
            "text/plain": [
              "<Figure size 432x288 with 1 Axes>"
            ],
            "image/png": "[encoded data removed]"
          },
          "metadata": {
            "needs_background": "light"
          }
        }
      ]
    },
    {
      "cell_type": "markdown",
      "source": [
        "Nearest Neighbor Implementation"
      ],
      "metadata": {
        "id": "969W5iC2fPjI"
      }
    },
    {
      "cell_type": "code",
      "source": [
        "import pandas as pd\n",
        "import numpy as np\n",
        "import matplotlib.pyplot as plt\n",
        "\n",
        "# Load the heart disease dataset\n",
        "url = \"https://raw.githubusercontent.com/tofighi/MachineLearning/master/datasets/heart.csv\"\n",
        "data = pd.read_csv(url)\n",
        "\n",
        "# Split the dataset into training and testing data\n",
        "X_train = data.iloc[:300, :]\n",
        "X_test = data.iloc[300:, :]\n",
        "\n",
        "# Select the \"sbp\" and \"tobacco\" features for clustering\n",
        "features = [\"sbp\", \"tobacco\"]\n",
        "\n",
        "# Define a function to compute the Euclidean distance between two data points\n",
        "def euclidean_distance(x1, x2):\n",
        "    return np.sqrt((x1[0] - x2[0])**2 + (x1[1] - x2[1])**2)\n",
        "\n",
        "# Define a function to find the nearest neighbor of a given test data point in the training data\n",
        "def find_nearest_neighbor(test_point, train_data, features):\n",
        "    distances = []\n",
        "    for index, row in train_data.iterrows():\n",
        "        train_point = np.array(row[features])\n",
        "        distance = euclidean_distance(test_point, train_point)\n",
        "        distances.append((index, distance))\n",
        "    distances.sort(key=lambda x: x[1])\n",
        "    return distances[0][0]\n",
        "\n",
        "# Define a function to predict the class of a test data point based on the nearest neighbor in the training data\n",
        "def predict(test_point, train_data, features):\n",
        "    nearest_neighbor = find_nearest_neighbor(test_point, train_data, features)\n",
        "    return train_data.loc[nearest_neighbor, \"chd\"]\n",
        "\n",
        "# Predict the classes of the test data points and compute the accuracy\n",
        "TP = TN = FP = FN = 0\n",
        "for index, row in X_test.iterrows():\n",
        "    test_point = np.array(row[features])\n",
        "    true_label = row[\"chd\"]\n",
        "    predicted_label = predict(test_point, X_train, features)\n",
        "    if true_label == 1 and predicted_label == 1:\n",
        "        TP += 1\n",
        "    elif true_label == 0 and predicted_label == 0:\n",
        "        TN += 1\n",
        "    elif true_label == 0 and predicted_label == 1:\n",
        "        FP += 1\n",
        "    elif true_label == 1 and predicted_label == 0:\n",
        "        FN += 1\n",
        "\n",
        "accuracy = (TP + TN) / (TP+TN+FN+FP)\n",
        "print(\"Accuracy:\", accuracy*100)"
      ],
      "metadata": {
        "colab": {
          "base_uri": "https://localhost:8080/"
        },
        "id": "6hh5CBNwfTru",
        "outputId": "7c409438-5caf-4f52-c39c-73e4020cd4f3"
      },
      "execution_count": null,
      "outputs": [
        {
          "output_type": "stream",
          "name": "stdout",
          "text": [
            "Accuracy: 56.17283950617284\n"
          ]
        }
      ]
    },
    {
      "cell_type": "markdown",
      "source": [
        "DBScan Implementation"
      ],
      "metadata": {
        "id": "OsRyoZKmiM3_"
      }
    },
    {
      "cell_type": "code",
      "source": [
        "import pandas as pd\n",
        "import numpy as np\n",
        "import matplotlib.pyplot as plt\n",
        "\n",
        "# Load the dataset\n",
        "url = 'https://raw.githubusercontent.com/tofighi/MachineLearning/master/datasets/heart.csv'\n",
        "data = pd.read_csv(url)\n",
        "\n",
        "# Separate the training and testing data\n",
        "train_data = data[:300]\n",
        "test_data = data[300:]\n",
        "\n",
        "# Extract the features for clustering\n",
        "X = train_data[['sbp', 'tobacco']]\n",
        "\n",
        "# Define the parameters for DBSCAN\n",
        "epsilon = 0.002\n",
        "min_samples = 5\n",
        "\n",
        "# Define the distance function for DBSCAN\n",
        "def euclidean_distance(x1, x2):\n",
        "    return np.sqrt((x1[0] - x2[0])**2 + (x1[1] - x2[1])**2)\n",
        "\n",
        "# Implement DBSCAN from scratch\n",
        "def DBSCAN(X, epsilon, min_samples):\n",
        "    labels = [0]*len(X)\n",
        "    C = 0\n",
        "    for i in range(len(X)):\n",
        "        if labels[i] != 0:\n",
        "            continue\n",
        "        neighbors = []\n",
        "        for j in range(len(X)):\n",
        "            if euclidean_distance(X[i], X[j]) < epsilon:\n",
        "                neighbors.append(j)\n",
        "        if len(neighbors) < min_samples:\n",
        "            labels[i] = -1\n",
        "        else:\n",
        "            C += 1\n",
        "            labels[i] = C\n",
        "            while len(neighbors) > 0:\n",
        "                current = neighbors[0]\n",
        "                if labels[current] == -1:\n",
        "                    labels[current] = C\n",
        "                elif labels[current] == 0:\n",
        "                    labels[current] = C\n",
        "                    current_neighbors = []\n",
        "                    for j in range(len(X)):\n",
        "                        if euclidean_distance(X[current], X[j]) < epsilon:\n",
        "                            current_neighbors.append(j)\n",
        "                    if len(current_neighbors) >= min_samples:\n",
        "                        neighbors += current_neighbors\n",
        "                neighbors = neighbors[1:]\n",
        "    return labels\n",
        "\n",
        "# Cluster the training data using DBSCAN\n",
        "labels = DBSCAN(X.values, epsilon, min_samples)\n",
        "\n",
        "# Plot the training data with actual labels\n",
        "colors = ['r', 'b']\n",
        "for i in range(len(train_data)):\n",
        "    plt.scatter(train_data.iloc[i]['sbp'], train_data.iloc[i]['tobacco'], c=colors[train_data.iloc[i]['chd']])\n",
        "plt.title('Training Data with Actual Labels')\n",
        "plt.xlabel('SBP')\n",
        "plt.ylabel('Tobacco')\n",
        "plt.show()\n",
        "\n",
        "# Plot the training data with predicted labels\n",
        "colors = ['r', 'b', 'g', 'y', 'm', 'c']\n",
        "for i in range(len(train_data)):\n",
        "    plt.scatter(train_data.iloc[i]['sbp'], train_data.iloc[i]['tobacco'], c=colors[labels[i]])\n",
        "plt.title('Training Data with Predicted Labels')\n",
        "plt.xlabel('SBP')\n",
        "plt.ylabel('Tobacco')\n",
        "plt.show()\n",
        "\n",
        "# Cluster the testing data using DBSCAN\n",
        "X_test = test_data[['sbp', 'tobacco']]\n",
        "labels_test = DBSCAN(X_test.values, epsilon, min_samples)\n",
        "\n",
        "# # Calculate the accuracy\n",
        "# accuracy = sum(labels_test == test_data['chd']) / len(test_data)\n",
        "# print('Accuracy:', accuracy)\n",
        "\n",
        "# Extract actual labels of test data\n",
        "y_test = test_data['chd'].values\n",
        "\n",
        "# Initialize TP, TN, FP, and FN to 0\n",
        "TP = TN = FP = FN = 0\n",
        "\n",
        "# Loop through each data point in the test data\n",
        "for i in range(len(y_test)):\n",
        "    # If actual label is positive and predicted label is positive, increment TP\n",
        "    if y_test[i] == 1 and labels_test[i] != -1:\n",
        "        TP += 1\n",
        "    # If actual label is negative and predicted label is negative, increment TN\n",
        "    elif y_test[i] == 0 and labels_test[i] == -1:\n",
        "        TN += 1\n",
        "    # If actual label is negative and predicted label is positive, increment FP\n",
        "    elif y_test[i] == 0 and labels_test[i] != -1:\n",
        "        FP += 1\n",
        "    # If actual label is positive and predicted label is negative, increment FN\n",
        "    elif y_test[i] == 1 and labels_test[i] == -1:\n",
        "        FN += 1\n",
        "\n",
        "# Calculate accuracy using TP, TN, FP, and FN formula\n",
        "accuracy = (TP + TN) / (TP + TN + FP + FN)\n",
        "\n",
        "# Print accuracy to console\n",
        "print(\"Accuracy:\", accuracy*100)"
      ],
      "metadata": {
        "colab": {
          "base_uri": "https://localhost:8080/",
          "height": 591
        },
        "id": "0jilt4CLnyxB",
        "outputId": "e438357d-b007-42b6-8e08-4c5a7da06440"
      },
      "execution_count": null,
      "outputs": [
        {
          "output_type": "display_data",
          "data": {
            "text/plain": [
              "<Figure size 432x288 with 1 Axes>"
            ],
            "image/png": "[encoded data removed]"
          },
          "metadata": {
            "needs_background": "light"
          }
        },
        {
          "output_type": "display_data",
          "data": {
            "text/plain": [
              "<Figure size 432x288 with 1 Axes>"
            ],
            "image/png": "[encoded data removed]"
          },
          "metadata": {
            "needs_background": "light"
          }
        },
        {
          "output_type": "stream",
          "name": "stdout",
          "text": [
            "Accuracy: 64.19753086419753\n"
          ]
        }
      ]
    },
    {
      "cell_type": "markdown",
      "source": [
        "Questions:\n",
        "\n",
        "Q15: The accuracy for the 3 algorithms ranges between 55% to 70% with k-means having the highest at 67% accuracy. Althought I am not 100% sure if K-means is supposed to provide the greatest accuracy but my implementation shows this."
      ],
      "metadata": {
        "id": "QGb2FeIpvoMz"
      }
    },
    {
      "cell_type": "markdown",
      "source": [
        "# SkLearn Implementation"
      ],
      "metadata": {
        "id": "vyxA4w8PXtrF"
      }
    },
    {
      "cell_type": "code",
      "source": [
        "from sklearn.cluster import KMeans\n",
        "import numpy as np\n",
        "import pandas as pd\n",
        "X = np.array([[2, 10], [2, 5], [8, 4], [5, 8], [7, 5], [6, 4], [1, 2], [4, 9]])\n",
        "kmeans = KMeans(n_clusters=3, random_state=0, n_init=\"auto\").fit(X)\n",
        "print(f\"Dataset 1:\\n{kmeans.cluster_centers_}\")\n",
        "\n",
        "url = \"https://raw.githubusercontent.com/tofighi/MachineLearning/master/datasets/heart.csv\"\n",
        "df = pd.read_csv(url)\n",
        "\n",
        "X2 = df[['sbp', 'tobacco']].values\n",
        "kmeans = KMeans(n_clusters=2, random_state=0, n_init=\"auto\").fit(X)\n",
        "print(f\"Dataset 2:\\n{kmeans.cluster_centers_}\")"
      ],
      "metadata": {
        "colab": {
          "base_uri": "https://localhost:8080/"
        },
        "id": "VLG7vvHuX0DI",
        "outputId": "92448489-489d-4113-ed40-0b0b5cbda802"
      },
      "execution_count": null,
      "outputs": [
        {
          "output_type": "stream",
          "name": "stdout",
          "text": [
            "dataset 1:\n",
            "[[7.         4.33333333]\n",
            " [3.66666667 9.        ]\n",
            " [1.5        3.5       ]]\n",
            "dataset 2:\n",
            "[[5.33333333 6.66666667]\n",
            " [1.5        3.5       ]]\n"
          ]
        }
      ]
    },
    {
      "cell_type": "code",
      "source": [
        "from sklearn.neighbors import NearestNeighbors\n",
        "import numpy as np\n",
        "import pandas as pd\n",
        "X = np.array([[2, 10], [2, 5], [8, 4], [5, 8], [7, 5], [6, 4], [1, 2], [4, 9]])\n",
        "nbrs = NearestNeighbors(n_neighbors=2, algorithm='ball_tree').fit(X)\n",
        "distances, indices = nbrs.kneighbors(X)\n",
        "print(indices)\n",
        "\n",
        "url = \"https://raw.githubusercontent.com/tofighi/MachineLearning/master/datasets/heart.csv\"\n",
        "df = pd.read_csv(url)\n",
        "\n",
        "X2 = df[['sbp', 'tobacco']].values\n",
        "nbrs = NearestNeighbors(n_neighbors=2, algorithm='ball_tree').fit(X2)\n",
        "distances, indices = nbrs.kneighbors(X2)\n",
        "print(indices)"
      ],
      "metadata": {
        "colab": {
          "base_uri": "https://localhost:8080/"
        },
        "id": "y5TIWXGhwifR",
        "outputId": "6f390229-917a-496d-b175-1ac715d63315"
      },
      "execution_count": null,
      "outputs": [
        {
          "output_type": "stream",
          "name": "stdout",
          "text": [
            "[[0 7]\n",
            " [1 6]\n",
            " [2 4]\n",
            " [3 7]\n",
            " [4 2]\n",
            " [5 4]\n",
            " [6 1]\n",
            " [7 3]]\n",
            "[[  0 140]\n",
            " [  1 145]\n",
            " [  2 265]\n",
            " [  3 107]\n",
            " [  4  11]\n",
            " [  5 371]\n",
            " [  6 319]\n",
            " [  7 376]\n",
            " [ 48   8]\n",
            " [213   9]\n",
            " [ 10 403]\n",
            " [ 11   4]\n",
            " [ 56 260]\n",
            " [213   9]\n",
            " [ 14 311]\n",
            " [ 15 104]\n",
            " [ 16 420]\n",
            " [ 17  27]\n",
            " [ 18 105]\n",
            " [ 19 149]\n",
            " [ 20 280]\n",
            " [ 21 307]\n",
            " [ 22 292]\n",
            " [ 23 343]\n",
            " [ 24 284]\n",
            " [207  25]\n",
            " [ 26 460]\n",
            " [ 27  17]\n",
            " [ 28 449]\n",
            " [388  29]\n",
            " [ 30 445]\n",
            " [ 31  18]\n",
            " [ 32 249]\n",
            " [ 33 398]\n",
            " [ 34 150]\n",
            " [ 35 135]\n",
            " [ 36 362]\n",
            " [ 37 226]\n",
            " [193 447]\n",
            " [ 39 231]\n",
            " [ 40 265]\n",
            " [ 41   1]\n",
            " [ 42 138]\n",
            " [ 43 141]\n",
            " [ 48   8]\n",
            " [ 45 373]\n",
            " [ 46 396]\n",
            " [ 47 405]\n",
            " [ 48   8]\n",
            " [ 49 368]\n",
            " [ 69  50]\n",
            " [ 51 202]\n",
            " [ 52 359]\n",
            " [ 53 128]\n",
            " [ 54 364]\n",
            " [ 55 452]\n",
            " [ 56 260]\n",
            " [ 57 236]\n",
            " [ 58 192]\n",
            " [ 59  89]\n",
            " [ 60 190]\n",
            " [ 61 343]\n",
            " [ 62 129]\n",
            " [ 63  77]\n",
            " [193 447]\n",
            " [ 65 223]\n",
            " [ 66 277]\n",
            " [ 67 289]\n",
            " [ 68  93]\n",
            " [ 69  50]\n",
            " [ 56 260]\n",
            " [ 71 232]\n",
            " [ 72 143]\n",
            " [ 73 375]\n",
            " [ 74 103]\n",
            " [ 75  97]\n",
            " [ 76 286]\n",
            " [ 77  63]\n",
            " [ 78 182]\n",
            " [ 79 153]\n",
            " [ 80 376]\n",
            " [ 81 381]\n",
            " [ 82 387]\n",
            " [ 83 422]\n",
            " [303 251]\n",
            " [ 85 390]\n",
            " [ 86 398]\n",
            " [374  87]\n",
            " [ 88 378]\n",
            " [ 89 211]\n",
            " [ 90  47]\n",
            " [ 91 420]\n",
            " [ 92 329]\n",
            " [ 93  68]\n",
            " [ 94 170]\n",
            " [283  95]\n",
            " [ 96 301]\n",
            " [ 75  97]\n",
            " [ 98 204]\n",
            " [ 99 255]\n",
            " [100 223]\n",
            " [101 180]\n",
            " [ 56 260]\n",
            " [103  74]\n",
            " [104 340]\n",
            " [105 247]\n",
            " [106 274]\n",
            " [107   3]\n",
            " [108 146]\n",
            " [172 139]\n",
            " [ 48   8]\n",
            " [111 318]\n",
            " [112  51]\n",
            " [313 421]\n",
            " [114 384]\n",
            " [303 251]\n",
            " [116 362]\n",
            " [117 330]\n",
            " [118 205]\n",
            " [193 447]\n",
            " [120 455]\n",
            " [121  59]\n",
            " [ 42 138]\n",
            " [123 337]\n",
            " [124  55]\n",
            " [125  32]\n",
            " [126 387]\n",
            " [127 351]\n",
            " [128  53]\n",
            " [129  62]\n",
            " [130 140]\n",
            " [131 176]\n",
            " [132 415]\n",
            " [133 381]\n",
            " [134 400]\n",
            " [135  35]\n",
            " [136 212]\n",
            " [137 103]\n",
            " [ 42 138]\n",
            " [172 139]\n",
            " [140   0]\n",
            " [141  43]\n",
            " [142 383]\n",
            " [143 439]\n",
            " [144 106]\n",
            " [386 145]\n",
            " [146 108]\n",
            " [147 201]\n",
            " [148 272]\n",
            " [149  19]\n",
            " [150  34]\n",
            " [151 241]\n",
            " [152  50]\n",
            " [431 153]\n",
            " [154  25]\n",
            " [155 209]\n",
            " [156 375]\n",
            " [157 423]\n",
            " [ 69  50]\n",
            " [159 225]\n",
            " [160 378]\n",
            " [161 407]\n",
            " [195 162]\n",
            " [338 163]\n",
            " [ 69  50]\n",
            " [165 428]\n",
            " [166  14]\n",
            " [167 404]\n",
            " [168 285]\n",
            " [169 349]\n",
            " [170  94]\n",
            " [171 108]\n",
            " [172 139]\n",
            " [173 248]\n",
            " [303 251]\n",
            " [175 135]\n",
            " [131 176]\n",
            " [ 42 138]\n",
            " [178 251]\n",
            " [179 166]\n",
            " [180 101]\n",
            " [181  52]\n",
            " [182 293]\n",
            " [183 364]\n",
            " [184 311]\n",
            " [185  35]\n",
            " [186 333]\n",
            " [187 455]\n",
            " [188 134]\n",
            " [399 375]\n",
            " [295 190]\n",
            " [191 203]\n",
            " [192 291]\n",
            " [193 447]\n",
            " [194 437]\n",
            " [195 162]\n",
            " [303 251]\n",
            " [197 312]\n",
            " [198 385]\n",
            " [338 163]\n",
            " [200 139]\n",
            " [201 147]\n",
            " [202  51]\n",
            " [203 191]\n",
            " [ 98 204]\n",
            " [205 359]\n",
            " [206 312]\n",
            " [207  25]\n",
            " [208 357]\n",
            " [275 209]\n",
            " [210 287]\n",
            " [211  89]\n",
            " [212 136]\n",
            " [213   9]\n",
            " [ 76 286]\n",
            " [215 254]\n",
            " [216 392]\n",
            " [217 261]\n",
            " [ 48   8]\n",
            " [219 403]\n",
            " [195 162]\n",
            " [221 363]\n",
            " [222 449]\n",
            " [223  65]\n",
            " [224 428]\n",
            " [225 257]\n",
            " [226 408]\n",
            " [227 128]\n",
            " [228  96]\n",
            " [229 242]\n",
            " [230 144]\n",
            " [231  39]\n",
            " [232  71]\n",
            " [ 69  50]\n",
            " [195 162]\n",
            " [235 384]\n",
            " [236  57]\n",
            " [237 423]\n",
            " [ 69  50]\n",
            " [172 139]\n",
            " [240 116]\n",
            " [241 151]\n",
            " [242 314]\n",
            " [243 329]\n",
            " [244  57]\n",
            " [303 251]\n",
            " [246  97]\n",
            " [247 105]\n",
            " [248 404]\n",
            " [249  66]\n",
            " [250 247]\n",
            " [303 251]\n",
            " [252 299]\n",
            " [253 414]\n",
            " [254 215]\n",
            " [255  99]\n",
            " [256 321]\n",
            " [257   6]\n",
            " [258  39]\n",
            " [259 315]\n",
            " [ 56 260]\n",
            " [261 217]\n",
            " [262 217]\n",
            " [263 208]\n",
            " [264 307]\n",
            " [279 265]\n",
            " [279 265]\n",
            " [267 353]\n",
            " [268   8]\n",
            " [269 357]\n",
            " [193 447]\n",
            " [271  30]\n",
            " [272 148]\n",
            " [273 379]\n",
            " [274  79]\n",
            " [275 209]\n",
            " [276 310]\n",
            " [277 339]\n",
            " [ 48   8]\n",
            " [279 265]\n",
            " [280  20]\n",
            " [281 321]\n",
            " [282 403]\n",
            " [283  95]\n",
            " [284 306]\n",
            " [285  73]\n",
            " [ 76 286]\n",
            " [287 286]\n",
            " [288 139]\n",
            " [289  67]\n",
            " [290  67]\n",
            " [291 192]\n",
            " [292  22]\n",
            " [293 182]\n",
            " [ 76 286]\n",
            " [295 190]\n",
            " [296   9]\n",
            " [ 75  97]\n",
            " [298 360]\n",
            " [299 252]\n",
            " [195 162]\n",
            " [301  96]\n",
            " [302 456]\n",
            " [303 251]\n",
            " [304 272]\n",
            " [303 251]\n",
            " [306 422]\n",
            " [307  21]\n",
            " [308 424]\n",
            " [309 348]\n",
            " [310 276]\n",
            " [311  14]\n",
            " [312 197]\n",
            " [313 421]\n",
            " [314 242]\n",
            " [315 259]\n",
            " [172 139]\n",
            " [317 268]\n",
            " [318 111]\n",
            " [319   6]\n",
            " [320 330]\n",
            " [321 256]\n",
            " [322 442]\n",
            " [323  81]\n",
            " [324 450]\n",
            " [325 320]\n",
            " [213   9]\n",
            " [303 251]\n",
            " [328 459]\n",
            " [329 243]\n",
            " [330 320]\n",
            " [331 368]\n",
            " [332 400]\n",
            " [333 186]\n",
            " [334 427]\n",
            " [335 396]\n",
            " [336  72]\n",
            " [337 123]\n",
            " [338 163]\n",
            " [339 277]\n",
            " [340 104]\n",
            " [341 212]\n",
            " [342 335]\n",
            " [343  23]\n",
            " [344 304]\n",
            " [345  94]\n",
            " [346 379]\n",
            " [347 373]\n",
            " [348 309]\n",
            " [349 169]\n",
            " [350  16]\n",
            " [351 127]\n",
            " [352 417]\n",
            " [353 267]\n",
            " [354 211]\n",
            " [355 415]\n",
            " [ 76 286]\n",
            " [357 269]\n",
            " [358 418]\n",
            " [359  52]\n",
            " [360 298]\n",
            " [361 261]\n",
            " [362 116]\n",
            " [363 411]\n",
            " [364  54]\n",
            " [365 296]\n",
            " [366 292]\n",
            " [367 210]\n",
            " [368 331]\n",
            " [369 163]\n",
            " [370 253]\n",
            " [371   5]\n",
            " [372 120]\n",
            " [373 347]\n",
            " [374  87]\n",
            " [399 375]\n",
            " [376   7]\n",
            " [377 146]\n",
            " [378  88]\n",
            " [346 379]\n",
            " [380 289]\n",
            " [381  81]\n",
            " [382  77]\n",
            " [383 142]\n",
            " [384 235]\n",
            " [385 198]\n",
            " [386 145]\n",
            " [387  82]\n",
            " [388  29]\n",
            " [389 349]\n",
            " [390  85]\n",
            " [391 259]\n",
            " [392 352]\n",
            " [393 458]\n",
            " [394 267]\n",
            " [295 190]\n",
            " [396 335]\n",
            " [397 413]\n",
            " [ 33 398]\n",
            " [399 375]\n",
            " [400 134]\n",
            " [213   9]\n",
            " [402 237]\n",
            " [403  10]\n",
            " [404 167]\n",
            " [405 136]\n",
            " [406 410]\n",
            " [407 161]\n",
            " [408 226]\n",
            " [ 42 138]\n",
            " [410 406]\n",
            " [411 363]\n",
            " [412  46]\n",
            " [413 457]\n",
            " [414 253]\n",
            " [415 355]\n",
            " [416 130]\n",
            " [417 352]\n",
            " [418 176]\n",
            " [399 375]\n",
            " [420  91]\n",
            " [313 421]\n",
            " [422 306]\n",
            " [423 237]\n",
            " [424 308]\n",
            " [213   9]\n",
            " [426 424]\n",
            " [427 334]\n",
            " [428 224]\n",
            " [ 42 138]\n",
            " [ 56 260]\n",
            " [431 153]\n",
            " [ 75  97]\n",
            " [ 42 138]\n",
            " [213   9]\n",
            " [ 75  97]\n",
            " [195 162]\n",
            " [437 194]\n",
            " [438  71]\n",
            " [439 143]\n",
            " [440 144]\n",
            " [ 42 138]\n",
            " [322 442]\n",
            " [443 355]\n",
            " [444 308]\n",
            " [445  30]\n",
            " [295 190]\n",
            " [193 447]\n",
            " [448 453]\n",
            " [449  28]\n",
            " [450 324]\n",
            " [ 42 138]\n",
            " [452 379]\n",
            " [453 448]\n",
            " [454 427]\n",
            " [455 120]\n",
            " [456 302]\n",
            " [457 413]\n",
            " [458 393]\n",
            " [459 106]\n",
            " [460  26]\n",
            " [213   9]]\n"
          ]
        }
      ]
    },
    {
      "cell_type": "code",
      "source": [
        "from sklearn.cluster import DBSCAN\n",
        "import numpy as np\n",
        "import pandas as pd\n",
        "X = np.array([[2, 10], [2, 5], [8, 4], [5, 8], [7, 5], [6, 4], [1, 2], [4, 9]])\n",
        "clusteringW2 = DBSCAN(eps=2, min_samples=2).fit(X)\n",
        "print(clusteringW2.labels_)\n",
        "print(clusteringW2)\n",
        "clusteringW10 = DBSCAN(eps=10**0.5, min_samples=2).fit(X)\n",
        "print(clusteringW10.labels_)\n",
        "print(clusteringW10)\n",
        "\n",
        "url = \"https://raw.githubusercontent.com/tofighi/MachineLearning/master/datasets/heart.csv\"\n",
        "df = pd.read_csv(url)\n",
        "\n",
        "X2 = df[['sbp', 'tobacco']].values\n",
        "clustering = DBSCAN(eps=0.002, min_samples=5).fit(X2)\n",
        "print(clustering.labels_)\n",
        "print(clustering)"
      ],
      "metadata": {
        "colab": {
          "base_uri": "https://localhost:8080/"
        },
        "id": "KQHF9FUvxjPN",
        "outputId": "ab45dd31-c848-4878-8bc9-7f3f095c5eef"
      },
      "execution_count": null,
      "outputs": [
        {
          "output_type": "stream",
          "name": "stdout",
          "text": [
            "[-1 -1  0  1  0  0 -1  1]\n",
            "DBSCAN(eps=2, min_samples=2)\n",
            "[0 1 2 0 2 2 1 0]\n",
            "DBSCAN(eps=3.1622776601683795, min_samples=2)\n",
            "[-1 -1 -1 -1 -1 -1 -1 -1  0  1 -1 -1  2  1 -1 -1 -1 -1 -1 -1 -1 -1 -1 -1\n",
            " -1 -1 -1 -1 -1 -1 -1 -1 -1 -1 -1 -1 -1 -1  3 -1 -1 -1  4 -1  0 -1 -1 -1\n",
            "  0 -1  5 -1 -1 -1 -1 -1  2 -1 -1 -1 -1 -1 -1 -1  3 -1 -1 -1 -1  5  2 -1\n",
            " -1 -1 -1  6  7 -1 -1 -1 -1 -1 -1 -1  8 -1 -1 -1 -1 -1 -1 -1 -1 -1 -1 -1\n",
            " -1  6 -1 -1 -1 -1  2 -1 -1 -1 -1 -1 -1  9  0 -1 -1 -1 -1  8 -1 -1 -1  3\n",
            " -1 -1  4 -1 -1 -1 -1 -1 -1 -1 -1 -1 -1 -1 -1 -1 -1 -1  4  9 -1 -1 -1 -1\n",
            " -1 -1 -1 -1 -1 -1 -1 -1 -1 -1 -1 -1 -1 -1  5 -1 -1 -1 10 -1  5 -1 -1 -1\n",
            " -1 -1 -1 -1  9 -1  8 -1 -1  4 -1 -1 -1 -1 -1 -1 -1 -1 -1 -1 -1 -1 -1 -1\n",
            " -1  3 -1 10  8 -1 -1 -1 -1 -1 -1 -1 -1 -1 -1 -1 -1 -1 -1 -1 -1  1  7 -1\n",
            " -1 -1  0 -1 10 -1 -1 -1 -1 -1 -1 -1 -1 -1 -1 -1 -1  5 10 -1 -1 -1  5  9\n",
            " -1 -1 -1 -1 -1  8 -1 -1 -1 -1 -1  8 -1 -1 -1 -1 -1 -1 -1 -1  2 -1 -1 -1\n",
            " -1 -1 -1 -1 -1 -1  3 -1 -1 -1 -1 -1 -1 -1  0 -1 -1 -1 -1 -1 -1 -1  7 -1\n",
            " -1 -1 -1 -1 -1 -1  7 -1 -1  6 -1 -1 10 -1 -1  8 -1  8 -1 -1 -1 -1 -1 -1\n",
            " -1 -1 -1 -1  9 -1 -1 -1 -1 -1 -1 -1 -1 -1  1  8 -1 -1 -1 -1 -1 -1 -1 -1\n",
            " -1 -1 -1 -1 -1 -1 -1 -1 -1 -1 -1 -1 -1 -1 -1 -1 -1 -1 -1 -1  7 -1 -1 -1\n",
            " -1 -1 -1 -1 -1 -1 -1 -1 -1 -1 -1 -1 -1 -1 -1 -1 -1 -1 -1 -1 -1 -1 -1 -1\n",
            " -1 -1 -1 -1 -1 -1 -1 -1 -1 -1 -1 -1 -1 -1 -1 -1 -1  1 -1 -1 -1 -1 -1 -1\n",
            " -1  4 -1 -1 -1 -1 -1 -1 -1 -1 -1 -1 -1 -1 -1 -1 -1  1 -1 -1 -1  4  2 -1\n",
            "  6  4  1  6 10 -1 -1 -1 -1  4 -1 -1 -1 -1 -1  3 -1 -1 -1  4 -1 -1 -1 -1\n",
            " -1 -1 -1 -1 -1  1]\n",
            "DBSCAN(eps=0.002)\n"
          ]
        }
      ]
    },
    {
      "cell_type": "markdown",
      "source": [
        "Questions:\n",
        "\n",
        "Q16: My k-means and dbscan algorithms seem to be the same/similar to the sklearn library however i have some doubts that my NN implementation is similar."
      ],
      "metadata": {
        "id": "uZF9NbIryoc0"
      }
    },
    {
      "cell_type": "markdown",
      "source": [
        "# **Lab Questions:**\n",
        "\n",
        "1. How well a cluster can predict the chd values of the points in the cluster is the metric used to assess a cluster's performance. The metrics used to measure this are true positives, true negatives, false positives, and false negatives. As opposed to false outcomes, which are the cluster's incorrect predictions, true outcomes are those that came true.\n",
        "\n",
        "2. Using precision and recall is a different way to assess how well the cluster performs. Precision is the proportion of positive predictions that the algorithm can accurately foresee out of all the positive predictions. The percentage of correctly predicted positives from the dataset's actual positive values is referred to as recall.\n",
        "\n",
        "\n",
        "Cites:\n",
        "https://www.youtube.com/watch?v=uLs-EYUpGAw&t=233s&ab_channel=EmmaDing\n",
        "\n",
        "https://scikit-learn.org/stable/modules/neighbors.html\n",
        "\n",
        "https://becominghuman.ai/dbscan-clustering-algorithm-implementation-from-scratch-python-9950af5eed97\n",
        "\n",
        "https://towardsdatascience.com/understanding-dbscan-algorithm-and-implementation-from-scratch-c256289479c5"
      ],
      "metadata": {
        "id": "qkZMYYBzqkEf"
      }
    }
  ]
}